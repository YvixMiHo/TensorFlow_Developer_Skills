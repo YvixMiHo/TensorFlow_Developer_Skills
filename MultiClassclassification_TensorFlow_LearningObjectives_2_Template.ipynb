{
  "nbformat": 4,
  "nbformat_minor": 0,
  "metadata": {
    "colab": {
      "name": "MultiClassclassification_TensorFlow_LearningObjectives_2_Template.ipynb",
      "provenance": [],
      "authorship_tag": "ABX9TyPBI5T0M5wgkLAKTEUgQlK5",
      "include_colab_link": true
    },
    "kernelspec": {
      "name": "python3",
      "display_name": "Python 3"
    },
    "language_info": {
      "name": "python"
    }
  },
  "cells": [
    {
      "cell_type": "markdown",
      "metadata": {
        "id": "view-in-github",
        "colab_type": "text"
      },
      "source": [
        "<a href=\"https://colab.research.google.com/github/YvixMiHo/TensorFlow_Developer_Skills/blob/main/MultiClassclassification_TensorFlow_LearningObjectives_2_Template.ipynb\" target=\"_parent\"><img src=\"https://colab.research.google.com/assets/colab-badge.svg\" alt=\"Open In Colab\"/></a>"
      ]
    },
    {
      "cell_type": "markdown",
      "source": [
        "Goal use multiclass classification to analyze a CSV file"
      ],
      "metadata": {
        "id": "ISYNocYKi_XV"
      }
    },
    {
      "cell_type": "markdown",
      "source": [
        "# 1. Import Depenedencies"
      ],
      "metadata": {
        "id": "t_Pye_Crbqqi"
      }
    },
    {
      "cell_type": "code",
      "source": [
        "import csv\n",
        "import string\n",
        "import numpy as np\n",
        "import tensorflow as tf\n",
        "import matplotlib.pyplot as plt\n",
        "from tensorflow.keras.preprocessing.image import ImageDataGenerator, array_to_img\n",
        "from os import getcwd"
      ],
      "metadata": {
        "id": "a7SaQtOMimU5"
      },
      "execution_count": null,
      "outputs": []
    },
    {
      "cell_type": "markdown",
      "source": [
        "# 2. Load Enviornment / Data set"
      ],
      "metadata": {
        "id": "2C-hG0qCbzc3"
      }
    },
    {
      "cell_type": "code",
      "source": [
        "# sign_mnist_train.csv\n",
        "!gdown --id 1z0DkA9BytlLxO1C0BAWzknLyQmZAp0HR\n",
        "# sign_mnist_test.csv\n",
        "!gdown --id 1z1BIj4qmri59GWBG4ivMNFtpZ4AXIbzg"
      ],
      "metadata": {
        "id": "J1V1AQpwiqjA"
      },
      "execution_count": null,
      "outputs": []
    },
    {
      "cell_type": "markdown",
      "source": [
        "## 2.a Make sense of the data, use confusion matrix if necessary"
      ],
      "metadata": {
        "id": "TMRIZYj_bzsn"
      }
    },
    {
      "cell_type": "code",
      "source": [
        "with open(TRAINING_FILE) as training_file:\n",
        "  line = training_file.readline()\n",
        "  print(f\"First line (header) looks like this:\\n{line}\")\n",
        "  line = training_file.readline()\n",
        "  print(f\"Each subsequent line (data points) look like this:\\n{line}\")"
      ],
      "metadata": {
        "id": "KK1cKCTHjuVn"
      },
      "execution_count": null,
      "outputs": []
    },
    {
      "cell_type": "code",
      "source": [
        "from matplotlib import image\n",
        "# GRADED FUNCTION: parse_data_from_input\n",
        "def parse_data_from_input(filename):\n",
        "\n",
        "  with open(filename) as file:\n",
        "      csv_reader = csv.reader(file, delimiter=',')\n",
        "      \n",
        "      labels = []\n",
        "      images = []\n",
        "      \n",
        "      next(csv_reader,None)\n",
        "\n",
        "      for row in csv_reader:\n",
        "          label = row[0]\n",
        "          image_sample = row[1:]\n",
        "\n",
        "          image_array = np.array(image_sample).reshape((28,28))\n",
        "      \n",
        "          labels.append(label)\n",
        "          images.append(image_array)\n",
        "\n",
        "      labels = np.array(labels).astype(float)\n",
        "      images = np.array(images).astype(float)\n",
        "\n",
        "  return images, labels"
      ],
      "metadata": {
        "id": "XC4NlEp2kCZc"
      },
      "execution_count": null,
      "outputs": []
    },
    {
      "cell_type": "markdown",
      "source": [
        "## 2.b Validate data shape*"
      ],
      "metadata": {
        "id": "dQUTbOSAcBBJ"
      }
    },
    {
      "cell_type": "code",
      "source": [
        "training_images, training_labels = parse_data_from_input(TRAINING_FILE)\n",
        "validation_images, validation_labels = parse_data_from_input(VALIDATION_FILE)\n",
        "\n",
        "print(f\"Training images has shape: {training_images.shape} and dtype: {training_images.dtype}\")\n",
        "print(f\"Training labels has shape: {training_labels.shape} and dtype: {training_labels.dtype}\")\n",
        "print(f\"Validation images has shape: {validation_images.shape} and dtype: {validation_images.dtype}\")\n",
        "print(f\"Validation labels has shape: {validation_labels.shape} and dtype: {validation_labels.dtype}\")"
      ],
      "metadata": {
        "id": "leFuqkt4nxJT"
      },
      "execution_count": null,
      "outputs": []
    },
    {
      "cell_type": "markdown",
      "source": [
        "## 2.c Visualize the data"
      ],
      "metadata": {
        "id": "FBB-vwFNcctV"
      }
    },
    {
      "cell_type": "code",
      "source": [
        "def plot_categories(training_images, training_labels):\n",
        "  fig, axes = plt.subplots(1, 10, figsize=(16, 15))\n",
        "  axes = axes.flatten()\n",
        "  letters = list(string.ascii_lowercase)\n",
        "\n",
        "  for k in range(10):\n",
        "    img = training_images[k]\n",
        "    img = np.expand_dims(img, axis=-1)\n",
        "    img = array_to_img(img)\n",
        "    ax = axes[k]\n",
        "    ax.imshow(img, cmap=\"Greys_r\")\n",
        "    ax.set_title(f\"{letters[int(training_labels[k])]}\")\n",
        "    ax.set_axis_off()\n",
        "\n",
        "  plt.tight_layout()\n",
        "  plt.show()\n",
        "\n",
        "plot_categories(training_images, training_labels)"
      ],
      "metadata": {
        "id": "K_XLEp8rouL_"
      },
      "execution_count": null,
      "outputs": []
    },
    {
      "cell_type": "markdown",
      "source": [
        "## 2.d* preprocess data"
      ],
      "metadata": {
        "id": "9TIwas5ZdFnA"
      }
    },
    {
      "cell_type": "code",
      "source": [
        ""
      ],
      "metadata": {
        "id": "8YYIuqhKowDI"
      },
      "execution_count": null,
      "outputs": []
    },
    {
      "cell_type": "markdown",
      "source": [
        "## 2.e* use data augmentation and dropout"
      ],
      "metadata": {
        "id": "wBQWPAmPdym9"
      }
    },
    {
      "cell_type": "code",
      "source": [
        "def train_val_generators(training_images, training_labels, validation_images, validation_labels):\n",
        "  # add another dimension to the data\n",
        "  # if your array is (10000, 28, 28)\n",
        "  # You will need to make it (10000, 28, 28, 1)\n",
        "  training_images = np.expand_dims(training_images,3)\n",
        "  validation_images = np.expand_dims(validation_images,3)\n",
        "\n",
        "  train_datagen = ImageDataGenerator(rescale=1/255.,\n",
        "                                     rotation_range=40,\n",
        "                                     width_shift_range=0.2,\n",
        "                                     height_shift_range=0.2,\n",
        "                                     shear_range=0.2,\n",
        "                                     zoom_range=0.2,\n",
        "                                     horizontal_flip=True,\n",
        "                                     fill_mode='nearest')\n",
        "\n",
        "  train_generator = train_datagen.flow(x=training_images,\n",
        "                                       y=training_labels,\n",
        "                                       batch_size=32) \n",
        "\n",
        "  validation_datagen = ImageDataGenerator(rescale=1/255.)\n",
        "\n",
        "  validation_generator = validation_datagen.flow(x=validation_images,\n",
        "                                                 y=validation_labels,\n",
        "                                                 batch_size=32) \n",
        "\n",
        "  return train_generator, validation_generator"
      ],
      "metadata": {
        "id": "rRE4eczhpajz"
      },
      "execution_count": null,
      "outputs": []
    },
    {
      "cell_type": "code",
      "source": [
        "train_generator, validation_generator = train_val_generators(training_images, training_labels, validation_images, validation_labels)\n",
        "\n",
        "print(f\"Images of training generator have shape: {train_generator.x.shape}\")\n",
        "print(f\"Labels of training generator have shape: {train_generator.y.shape}\")\n",
        "print(f\"Images of validation generator have shape: {validation_generator.x.shape}\")\n",
        "print(f\"Labels of validation generator have shape: {validation_generator.y.shape}\")"
      ],
      "metadata": {
        "id": "Y8Ja6xn_p54s"
      },
      "execution_count": null,
      "outputs": []
    },
    {
      "cell_type": "markdown",
      "source": [
        "# 3. Create, Train and Fit model"
      ],
      "metadata": {
        "id": "zmyNdRpLbz0R"
      }
    },
    {
      "cell_type": "code",
      "source": [
        "from tensorflow.keras import optimizers, losses\n",
        "def create_model():\n",
        "\n",
        "    model = tf.keras.models.Sequential([ \n",
        "        tf.keras.layers.Conv2D(64, (3,3), activation='relu', input_shape=(28, 28, 1)),\n",
        "        tf.keras.layers.MaxPooling2D(2, 2),\n",
        "        tf.keras.layers.Conv2D(128, (3,3), activation='relu'),\n",
        "        tf.keras.layers.MaxPooling2D(2,2),\n",
        "        tf.keras.layers.Flatten(),\n",
        "        tf.keras.layers.Dense(512, activation = \"relu\"),\n",
        "        tf.keras.layers.Dense(26, activation = \"softmax\"),\n",
        "  ])\n",
        "\n",
        "    model.compile(loss=losses.SparseCategoricalCrossentropy(),\n",
        "                  optimizer=optimizers.Adam(lr = 0.001),\n",
        "                  metrics=['accuracy']) \n",
        " \n",
        "    return model"
      ],
      "metadata": {
        "id": "PdZmaqwxrAou"
      },
      "execution_count": null,
      "outputs": []
    },
    {
      "cell_type": "code",
      "source": [
        "model = create_model()\n",
        "\n",
        "history = model.fit(train_generator,\n",
        "                    epochs=15,\n",
        "                    validation_data=validation_generator)"
      ],
      "metadata": {
        "id": "e1wrYSq3rWSv"
      },
      "execution_count": null,
      "outputs": []
    },
    {
      "cell_type": "markdown",
      "source": [
        "## 3.a* use (pre-trained model)transfer learning if necessary"
      ],
      "metadata": {
        "id": "1tVElYOdeLFv"
      }
    },
    {
      "cell_type": "markdown",
      "source": [
        "## 3.b* extract features of pre-trained model"
      ],
      "metadata": {
        "id": "dmv1mXDmemf3"
      }
    },
    {
      "cell_type": "markdown",
      "source": [
        "## 3.c* match test data to inputshape of neural network"
      ],
      "metadata": {
        "id": "GhkKFD-qe08J"
      }
    },
    {
      "cell_type": "markdown",
      "source": [
        "## 3.d* match output data of a neural network to speicifed inputshape for test data"
      ],
      "metadata": {
        "id": "H4ANWhOVfCB5"
      }
    },
    {
      "cell_type": "markdown",
      "source": [
        "## 3.e* use batch loading of data"
      ],
      "metadata": {
        "id": "7VHZGRK2fNL4"
      }
    },
    {
      "cell_type": "markdown",
      "source": [
        "## 3.f* use callbacks to trigger the end of training cycles"
      ],
      "metadata": {
        "id": "uwpJLglnfTMZ"
      }
    },
    {
      "cell_type": "markdown",
      "source": [
        "# 4. Evaluate the model"
      ],
      "metadata": {
        "id": "4PzfKC8xbz70"
      }
    },
    {
      "cell_type": "markdown",
      "source": [
        "## 4.a Visualize the model"
      ],
      "metadata": {
        "id": "xOGL_6XBb0Mb"
      }
    },
    {
      "cell_type": "markdown",
      "source": [
        "## 4.b* Plot loss and accuracy of a trained model"
      ],
      "metadata": {
        "id": "vFt0YPBQdQ8i"
      }
    },
    {
      "cell_type": "code",
      "source": [
        "# Plot the chart for accuracy and loss on both training and validation\n",
        "acc = history.history['accuracy']\n",
        "val_acc = history.history['val_accuracy']\n",
        "loss = history.history['loss']\n",
        "val_loss = history.history['val_loss']\n",
        "\n",
        "epochs = range(len(acc))\n",
        "\n",
        "plt.plot(epochs, acc, 'r', label='Training accuracy')\n",
        "plt.plot(epochs, val_acc, 'b', label='Validation accuracy')\n",
        "plt.title('Training and validation accuracy')\n",
        "plt.legend()\n",
        "plt.figure()\n",
        "\n",
        "plt.plot(epochs, loss, 'r', label='Training Loss')\n",
        "plt.plot(epochs, val_loss, 'b', label='Validation Loss')\n",
        "plt.title('Training and validation loss')\n",
        "plt.legend()\n",
        "\n",
        "plt.show()"
      ],
      "metadata": {
        "id": "uLg_1Qd2sKqY"
      },
      "execution_count": null,
      "outputs": []
    },
    {
      "cell_type": "markdown",
      "source": [
        "## 4.c* use model to predict results"
      ],
      "metadata": {
        "id": "WoYt9_ZzdorI"
      }
    },
    {
      "cell_type": "code",
      "source": [
        ""
      ],
      "metadata": {
        "id": "SwGtKDLlb0W5"
      },
      "execution_count": null,
      "outputs": []
    },
    {
      "cell_type": "code",
      "source": [
        ""
      ],
      "metadata": {
        "id": "1DoMgb5zb0fT"
      },
      "execution_count": null,
      "outputs": []
    },
    {
      "cell_type": "code",
      "source": [
        ""
      ],
      "metadata": {
        "id": "xMXTefoQb0-B"
      },
      "execution_count": null,
      "outputs": []
    },
    {
      "cell_type": "code",
      "source": [
        ""
      ],
      "metadata": {
        "id": "4Ily4ADdb1FD"
      },
      "execution_count": null,
      "outputs": []
    }
  ]
}