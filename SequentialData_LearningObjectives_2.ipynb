{
  "nbformat": 4,
  "nbformat_minor": 0,
  "metadata": {
    "colab": {
      "name": "SequentialData_LearningObjectives_2.ipynb",
      "provenance": [],
      "collapsed_sections": [],
      "authorship_tag": "ABX9TyN0wW7+QU5B/VkaJfar5sL7",
      "include_colab_link": true
    },
    "kernelspec": {
      "name": "python3",
      "display_name": "Python 3"
    },
    "language_info": {
      "name": "python"
    },
    "gpuClass": "standard"
  },
  "cells": [
    {
      "cell_type": "markdown",
      "metadata": {
        "id": "view-in-github",
        "colab_type": "text"
      },
      "source": [
        "<a href=\"https://colab.research.google.com/github/YvixMiHo/TensorFlow_Developer_Skills/blob/main/SequentialData_LearningObjectives_2.ipynb\" target=\"_parent\"><img src=\"https://colab.research.google.com/assets/colab-badge.svg\" alt=\"Open In Colab\"/></a>"
      ]
    },
    {
      "cell_type": "markdown",
      "source": [
        "# 1. Import Depenedencies"
      ],
      "metadata": {
        "id": "t_Pye_Crbqqi"
      }
    },
    {
      "cell_type": "code",
      "source": [
        "import os\n",
        "import zipfile\n",
        "import random\n",
        "import shutil\n",
        "import tensorflow as tf\n",
        "from tensorflow.keras.preprocessing.image import ImageDataGenerator\n",
        "from tensorflow.keras import optimizers, losses\n",
        "from shutil import copyfile\n",
        "import matplotlib.pyplot as plt"
      ],
      "metadata": {
        "id": "Rzet7oVlSSTj"
      },
      "execution_count": 1,
      "outputs": []
    },
    {
      "cell_type": "markdown",
      "source": [
        "## 1.a Functions"
      ],
      "metadata": {
        "id": "-pHk6RKLTRqM"
      }
    },
    {
      "cell_type": "markdown",
      "source": [
        "# 2. Load Enviornment / Data set"
      ],
      "metadata": {
        "id": "2C-hG0qCbzc3"
      }
    },
    {
      "cell_type": "code",
      "source": [
        "!wget --no-check-certificate \\\n",
        "    \"https://download.microsoft.com/download/3/E/1/3E1C3F21-ECDB-4869-8368-6DEBA77B919F/kagglecatsanddogs_5340.zip\" \\\n",
        "    -O \"/tmp/cats-and-dogs.zip\"\n",
        "\n",
        "local_zip = '/tmp/cats-and-dogs.zip'\n",
        "zip_ref   = zipfile.ZipFile(local_zip, 'r')\n",
        "zip_ref.extractall('/tmp')\n",
        "zip_ref.close()"
      ],
      "metadata": {
        "colab": {
          "base_uri": "https://localhost:8080/"
        },
        "id": "Q2X9k4ECSqUt",
        "outputId": "5e38b68a-1854-4cdf-daf8-721f475f83d8"
      },
      "execution_count": 2,
      "outputs": [
        {
          "output_type": "stream",
          "name": "stdout",
          "text": [
            "--2022-06-25 15:12:03--  https://download.microsoft.com/download/3/E/1/3E1C3F21-ECDB-4869-8368-6DEBA77B919F/kagglecatsanddogs_5340.zip\n",
            "Resolving download.microsoft.com (download.microsoft.com)... 23.11.196.107, 2600:1407:3400:49f::e59, 2600:1407:3400:48c::e59\n",
            "Connecting to download.microsoft.com (download.microsoft.com)|23.11.196.107|:443... connected.\n",
            "HTTP request sent, awaiting response... 200 OK\n",
            "Length: 824887076 (787M) [application/octet-stream]\n",
            "Saving to: ‘/tmp/cats-and-dogs.zip’\n",
            "\n",
            "/tmp/cats-and-dogs. 100%[===================>] 786.67M   200MB/s    in 4.0s    \n",
            "\n",
            "2022-06-25 15:12:07 (196 MB/s) - ‘/tmp/cats-and-dogs.zip’ saved [824887076/824887076]\n",
            "\n"
          ]
        }
      ]
    },
    {
      "cell_type": "code",
      "source": [
        "source_path = '/tmp/PetImages'\n",
        "\n",
        "source_path_dogs = os.path.join(source_path, 'Dog')\n",
        "source_path_cats = os.path.join(source_path, 'Cat')\n",
        "\n",
        "\n",
        "# os.listdir returns a list containing all files under the given path\n",
        "print(f\"There are {len(os.listdir(source_path_dogs))} images of dogs.\")\n",
        "print(f\"There are {len(os.listdir(source_path_cats))} images of cats.\")"
      ],
      "metadata": {
        "colab": {
          "base_uri": "https://localhost:8080/"
        },
        "id": "v0uMfp4BSqrh",
        "outputId": "c164c035-a941-4696-ba8f-eabc547afb33"
      },
      "execution_count": 3,
      "outputs": [
        {
          "output_type": "stream",
          "name": "stdout",
          "text": [
            "There are 12501 images of dogs.\n",
            "There are 12501 images of cats.\n"
          ]
        }
      ]
    },
    {
      "cell_type": "markdown",
      "source": [
        "## 2.a Make sense of the data, use confusion matrix if necessary"
      ],
      "metadata": {
        "id": "TMRIZYj_bzsn"
      }
    },
    {
      "cell_type": "code",
      "source": [
        "root_dir = '/tmp/cats-v-dogs'\n",
        "\n",
        "# Empty directory to prevent FileExistsError is the function is run several times\n",
        "if os.path.exists(root_dir):\n",
        "  shutil.rmtree(root_dir)"
      ],
      "metadata": {
        "id": "bs2ccYgETB_j"
      },
      "execution_count": 4,
      "outputs": []
    },
    {
      "cell_type": "code",
      "source": [
        "def create_train_val_dirs(root_path):\n",
        "\n",
        "  base_dir = root_dir\n",
        "  train_dir = os.path.join(base_dir, \"training\")\n",
        "  validation_dir = os.path.join(base_dir, \"validation\")\n",
        "  \n",
        "  train_cats_dir = os.path.join(train_dir, \"cats\")\n",
        "  train_dogs_dir = os.path.join(train_dir, \"dogs\")\n",
        "\n",
        "  validation_cats_dir = os.path.join(validation_dir, \"cats\")\n",
        "  validation_dogs_dir = os.path.join(validation_dir, \"dogs\")\n",
        "\n",
        "  os.makedirs(train_dir)\n",
        "  os.makedirs(validation_dir)\n",
        "  os.makedirs(train_cats_dir)\n",
        "  os.makedirs(train_dogs_dir)\n",
        "  os.makedirs(validation_cats_dir)\n",
        "  os.makedirs(validation_dogs_dir)\n",
        "\n",
        "  pass\n",
        "  \n",
        "try:\n",
        "  create_train_val_dirs(root_path=root_dir)\n",
        "except FileExistsError:\n",
        "  print(\"You should not be seeing this since the upper directory is removed beforehand\")"
      ],
      "metadata": {
        "id": "tA5E3oKEZuPH"
      },
      "execution_count": 5,
      "outputs": []
    },
    {
      "cell_type": "code",
      "source": [
        "for rootdir, dirs, files in os.walk(root_dir):\n",
        "    for subdir in dirs:\n",
        "        print(os.path.join(rootdir, subdir))"
      ],
      "metadata": {
        "colab": {
          "base_uri": "https://localhost:8080/"
        },
        "id": "eYyeBdDITFHm",
        "outputId": "76ba8107-9700-4439-d019-6a29a489331e"
      },
      "execution_count": 6,
      "outputs": [
        {
          "output_type": "stream",
          "name": "stdout",
          "text": [
            "/tmp/cats-v-dogs/validation\n",
            "/tmp/cats-v-dogs/training\n",
            "/tmp/cats-v-dogs/validation/dogs\n",
            "/tmp/cats-v-dogs/validation/cats\n",
            "/tmp/cats-v-dogs/training/dogs\n",
            "/tmp/cats-v-dogs/training/cats\n"
          ]
        }
      ]
    },
    {
      "cell_type": "code",
      "source": [
        "def split_data(SOURCE_DIR, TRAINING_DIR, VALIDATION_DIR, SPLIT_SIZE):\n",
        "\n",
        "  file_storage = []\n",
        "  for filename in os.listdir(SOURCE_DIR):\n",
        "    file_target = SOURCE_DIR + filename\n",
        "    if(os.path.getsize(file_target)>0):\n",
        "      file_storage.append(filename)\n",
        "    else:\n",
        "      print(filename + \"is zero length, so ignoring\")\n",
        "  \n",
        "  random_set = random.sample(file_storage,len(file_storage)) \n",
        "\n",
        "  train_data = random_set[:int(SPLIT_SIZE*len(file_storage))]\n",
        "  test_data = random_set[int(SPLIT_SIZE*len(file_storage)):]\n",
        "\n",
        "  #take each file from traindata and validation data and\n",
        "  for filename in train_data:\n",
        "    copyfile(SOURCE_DIR+filename,TRAINING_DIR+filename)\n",
        "  for filename in test_data:\n",
        "    copyfile(SOURCE_DIR+filename,VALIDATION_DIR+filename)\n",
        "  pass"
      ],
      "metadata": {
        "id": "YnRBmyaRZ9mj"
      },
      "execution_count": 7,
      "outputs": []
    },
    {
      "cell_type": "code",
      "source": [
        "# Define paths\n",
        "CAT_SOURCE_DIR = \"/tmp/PetImages/Cat/\"\n",
        "DOG_SOURCE_DIR = \"/tmp/PetImages/Dog/\"\n",
        "\n",
        "TRAINING_DIR = \"/tmp/cats-v-dogs/training/\"\n",
        "VALIDATION_DIR = \"/tmp/cats-v-dogs/validation/\"\n",
        "\n",
        "TRAINING_CATS_DIR = os.path.join(TRAINING_DIR, \"cats/\")\n",
        "VALIDATION_CATS_DIR = os.path.join(VALIDATION_DIR, \"cats/\")\n",
        "\n",
        "TRAINING_DOGS_DIR = os.path.join(TRAINING_DIR, \"dogs/\")\n",
        "VALIDATION_DOGS_DIR = os.path.join(VALIDATION_DIR, \"dogs/\")\n",
        "\n",
        "# Empty directories in case you run this cell multiple times\n",
        "if len(os.listdir(TRAINING_CATS_DIR)) > 0:\n",
        "  for file in os.scandir(TRAINING_CATS_DIR):\n",
        "    os.remove(file.path)\n",
        "if len(os.listdir(TRAINING_DOGS_DIR)) > 0:\n",
        "  for file in os.scandir(TRAINING_DOGS_DIR):\n",
        "    os.remove(file.path)\n",
        "if len(os.listdir(VALIDATION_CATS_DIR)) > 0:\n",
        "  for file in os.scandir(VALIDATION_CATS_DIR):\n",
        "    os.remove(file.path)\n",
        "if len(os.listdir(VALIDATION_DOGS_DIR)) > 0:\n",
        "  for file in os.scandir(VALIDATION_DOGS_DIR):\n",
        "    os.remove(file.path)\n",
        "\n",
        "# Define proportion of images used for training\n",
        "split_size = .9\n",
        "\n",
        "# NOTE: Messages about zero length images should be printed out\n",
        "split_data(CAT_SOURCE_DIR, TRAINING_CATS_DIR, VALIDATION_CATS_DIR, split_size)\n",
        "split_data(DOG_SOURCE_DIR, TRAINING_DOGS_DIR, VALIDATION_DOGS_DIR, split_size)\n",
        "\n",
        "# Check that the number of images matches the expected output\n",
        "print(f\"\\n\\nThere are {len(os.listdir(TRAINING_CATS_DIR))} images of cats for training\")\n",
        "print(f\"There are {len(os.listdir(TRAINING_DOGS_DIR))} images of dogs for training\")\n",
        "print(f\"There are {len(os.listdir(VALIDATION_CATS_DIR))} images of cats for validation\")\n",
        "print(f\"There are {len(os.listdir(VALIDATION_DOGS_DIR))} images of dogs for validation\")"
      ],
      "metadata": {
        "colab": {
          "base_uri": "https://localhost:8080/"
        },
        "id": "H66y1-sLTvsT",
        "outputId": "d0897842-8b9c-405e-b478-a3541d5e3ac0"
      },
      "execution_count": 8,
      "outputs": [
        {
          "output_type": "stream",
          "name": "stdout",
          "text": [
            "666.jpgis zero length, so ignoring\n",
            "11702.jpgis zero length, so ignoring\n",
            "\n",
            "\n",
            "There are 11250 images of cats for training\n",
            "There are 11250 images of dogs for training\n",
            "There are 1250 images of cats for validation\n",
            "There are 1250 images of dogs for validation\n"
          ]
        }
      ]
    },
    {
      "cell_type": "code",
      "source": [
        "def train_val_generators(TRAINING_DIR, VALIDATION_DIR):\n",
        "\n",
        "  #Instantiate the ImageDataGenerator class\n",
        "  train_datagen = ImageDataGenerator(rescale = 1/255.)\n",
        "\n",
        "  train_generator = train_datagen.flow_from_directory(directory=TRAINING_DIR, batch_size=250, class_mode=\"binary\", target_size=(150,150))\n",
        "\n",
        "  validation_datagen = ImageDataGenerator(rescale = 1/255.)\n",
        "\n",
        "  validation_generator = validation_datagen.flow_from_directory(directory=VALIDATION_DIR, batch_size=250, class_mode=\"binary\", target_size=(150,150)) \n",
        "  \n",
        "  return train_generator, validation_generator"
      ],
      "metadata": {
        "id": "ZUAALUm5aLlz"
      },
      "execution_count": 9,
      "outputs": []
    },
    {
      "cell_type": "markdown",
      "source": [
        "## 2.b Validate data shape*"
      ],
      "metadata": {
        "id": "dQUTbOSAcBBJ"
      }
    },
    {
      "cell_type": "code",
      "source": [
        "train_generator, validation_generator = train_val_generators(TRAINING_DIR, VALIDATION_DIR)"
      ],
      "metadata": {
        "colab": {
          "base_uri": "https://localhost:8080/"
        },
        "id": "jtCYdpcCWrtP",
        "outputId": "2bf6e84f-7f13-49b5-fc2f-caea067f690c"
      },
      "execution_count": 10,
      "outputs": [
        {
          "output_type": "stream",
          "name": "stdout",
          "text": [
            "Found 22498 images belonging to 2 classes.\n",
            "Found 2500 images belonging to 2 classes.\n"
          ]
        }
      ]
    },
    {
      "cell_type": "markdown",
      "source": [
        "## 2.c Visualize the data"
      ],
      "metadata": {
        "id": "FBB-vwFNcctV"
      }
    },
    {
      "cell_type": "markdown",
      "source": [
        "## 2.d* preprocess data"
      ],
      "metadata": {
        "id": "9TIwas5ZdFnA"
      }
    },
    {
      "cell_type": "markdown",
      "source": [
        "## 2.e* use data augmentation and dropout"
      ],
      "metadata": {
        "id": "wBQWPAmPdym9"
      }
    },
    {
      "cell_type": "markdown",
      "source": [
        "# 3. Create, Train and Fit model"
      ],
      "metadata": {
        "id": "zmyNdRpLbz0R"
      }
    },
    {
      "cell_type": "code",
      "source": [
        "def create_model():\n",
        "\n",
        "  model = tf.keras.models.Sequential([ \n",
        "        # 1\n",
        "        tf.keras.layers.Conv2D(16, (3,3), activation =\"relu\", input_shape = (150,150,3)),\n",
        "        tf.keras.layers.MaxPooling2D(2,2),\n",
        "        # 2\n",
        "        tf.keras.layers.Conv2D(32, (3,3), activation = \"relu\"),\n",
        "        tf.keras.layers.MaxPooling2D(2,2),\n",
        "        # 3\n",
        "        tf.keras.layers.Conv2D(64, (3,3), activation = \"relu\"),\n",
        "        tf.keras.layers.MaxPooling2D(2,2),\n",
        "        # 4\n",
        "        #tf.keras.layers.Conv2D(64, (3,3) activation = \"relu\"),\n",
        "        #tf.keras.layers.Conv2D(2,2),\n",
        "        # 5\n",
        "        #tf.keras.layers.Conv2D(64, (3,3) activation = \"relu\"),\n",
        "        #tf.keras.layers.Conv2D(2,2),\n",
        "        #flat\n",
        "        tf.keras.layers.Flatten(),\n",
        "        # 512 \n",
        "        tf.keras.layers.Dense(512, activation = \"relu\"),\n",
        "        tf.keras.layers.Dense(1, activation = \"sigmoid\"),\n",
        "  ])\n",
        "\n",
        "  model.compile(loss=losses.BinaryCrossentropy(),\n",
        "                  optimizer=optimizers.Adam(lr = 0.001),\n",
        "                  metrics=['accuracy']) \n",
        "    \n",
        "  return model"
      ],
      "metadata": {
        "id": "pIS6M-eXaZmi"
      },
      "execution_count": 11,
      "outputs": []
    },
    {
      "cell_type": "code",
      "source": [
        "# Get the untrained model\n",
        "model = create_model()\n",
        "\n",
        "# Train the model\n",
        "history = model.fit(train_generator,\n",
        "                    epochs=15,\n",
        "                    verbose=1,\n",
        "                    validation_data=validation_generator)"
      ],
      "metadata": {
        "colab": {
          "base_uri": "https://localhost:8080/"
        },
        "id": "XGX6vZyFXKtm",
        "outputId": "d29af6f6-ce52-49d3-dd27-60606a59518c"
      },
      "execution_count": 17,
      "outputs": [
        {
          "metadata": {
            "tags": null
          },
          "name": "stderr",
          "output_type": "stream",
          "text": [
            "/usr/local/lib/python3.7/dist-packages/keras/optimizer_v2/adam.py:105: UserWarning: The `lr` argument is deprecated, use `learning_rate` instead.\n",
            "  super(Adam, self).__init__(name, **kwargs)\n"
          ]
        },
        {
          "metadata": {
            "tags": null
          },
          "name": "stdout",
          "output_type": "stream",
          "text": [
            "Epoch 1/15\n",
            "71/90 [======================>.......] - ETA: 1:43 - loss: 0.7119 - accuracy: 0.5855"
          ]
        },
        {
          "metadata": {
            "tags": null
          },
          "name": "stderr",
          "output_type": "stream",
          "text": [
            "/usr/local/lib/python3.7/dist-packages/PIL/TiffImagePlugin.py:770: UserWarning: Possibly corrupt EXIF data.  Expecting to read 32 bytes but only got 0. Skipping tag 270\n",
            "  \" Skipping tag %s\" % (size, len(data), tag)\n",
            "/usr/local/lib/python3.7/dist-packages/PIL/TiffImagePlugin.py:770: UserWarning: Possibly corrupt EXIF data.  Expecting to read 5 bytes but only got 0. Skipping tag 271\n",
            "  \" Skipping tag %s\" % (size, len(data), tag)\n",
            "/usr/local/lib/python3.7/dist-packages/PIL/TiffImagePlugin.py:770: UserWarning: Possibly corrupt EXIF data.  Expecting to read 8 bytes but only got 0. Skipping tag 272\n",
            "  \" Skipping tag %s\" % (size, len(data), tag)\n",
            "/usr/local/lib/python3.7/dist-packages/PIL/TiffImagePlugin.py:770: UserWarning: Possibly corrupt EXIF data.  Expecting to read 8 bytes but only got 0. Skipping tag 282\n",
            "  \" Skipping tag %s\" % (size, len(data), tag)\n",
            "/usr/local/lib/python3.7/dist-packages/PIL/TiffImagePlugin.py:770: UserWarning: Possibly corrupt EXIF data.  Expecting to read 8 bytes but only got 0. Skipping tag 283\n",
            "  \" Skipping tag %s\" % (size, len(data), tag)\n",
            "/usr/local/lib/python3.7/dist-packages/PIL/TiffImagePlugin.py:770: UserWarning: Possibly corrupt EXIF data.  Expecting to read 20 bytes but only got 0. Skipping tag 306\n",
            "  \" Skipping tag %s\" % (size, len(data), tag)\n",
            "/usr/local/lib/python3.7/dist-packages/PIL/TiffImagePlugin.py:770: UserWarning: Possibly corrupt EXIF data.  Expecting to read 48 bytes but only got 0. Skipping tag 532\n",
            "  \" Skipping tag %s\" % (size, len(data), tag)\n",
            "/usr/local/lib/python3.7/dist-packages/PIL/TiffImagePlugin.py:788: UserWarning: Corrupt EXIF data.  Expecting to read 2 bytes but only got 0. \n",
            "  warnings.warn(str(msg))\n"
          ]
        },
        {
          "output_type": "stream",
          "name": "stdout",
          "text": [
            "90/90 [==============================] - 515s 6s/step - loss: 0.6882 - accuracy: 0.6064 - val_loss: 0.5733 - val_accuracy: 0.7122\n",
            "Epoch 2/15\n",
            "90/90 [==============================] - 510s 6s/step - loss: 0.5277 - accuracy: 0.7372 - val_loss: 0.4643 - val_accuracy: 0.7766\n",
            "Epoch 3/15\n",
            "90/90 [==============================] - 509s 6s/step - loss: 0.4524 - accuracy: 0.7844 - val_loss: 0.4510 - val_accuracy: 0.7798\n",
            "Epoch 4/15\n",
            "90/90 [==============================] - 511s 6s/step - loss: 0.4053 - accuracy: 0.8128 - val_loss: 0.4042 - val_accuracy: 0.8122\n",
            "Epoch 5/15\n",
            "90/90 [==============================] - 515s 6s/step - loss: 0.3601 - accuracy: 0.8409 - val_loss: 0.4008 - val_accuracy: 0.8135\n",
            "Epoch 6/15\n",
            "90/90 [==============================] - 510s 6s/step - loss: 0.3256 - accuracy: 0.8575 - val_loss: 0.3820 - val_accuracy: 0.8227\n",
            "Epoch 7/15\n",
            "90/90 [==============================] - 509s 6s/step - loss: 0.2860 - accuracy: 0.8761 - val_loss: 0.4047 - val_accuracy: 0.8114\n",
            "Epoch 8/15\n",
            "90/90 [==============================] - 510s 6s/step - loss: 0.2363 - accuracy: 0.9006 - val_loss: 0.4039 - val_accuracy: 0.8191\n",
            "Epoch 9/15\n",
            "90/90 [==============================] - 510s 6s/step - loss: 0.1975 - accuracy: 0.9197 - val_loss: 0.4232 - val_accuracy: 0.8275\n",
            "Epoch 10/15\n",
            "90/90 [==============================] - 510s 6s/step - loss: 0.1684 - accuracy: 0.9329 - val_loss: 0.4417 - val_accuracy: 0.8259\n",
            "Epoch 11/15\n",
            "90/90 [==============================] - 509s 6s/step - loss: 0.1125 - accuracy: 0.9596 - val_loss: 0.5113 - val_accuracy: 0.8255\n",
            "Epoch 12/15\n",
            "90/90 [==============================] - 509s 6s/step - loss: 0.0833 - accuracy: 0.9714 - val_loss: 0.6066 - val_accuracy: 0.8054\n",
            "Epoch 13/15\n",
            "90/90 [==============================] - 510s 6s/step - loss: 0.0531 - accuracy: 0.9847 - val_loss: 0.5995 - val_accuracy: 0.8347\n",
            "Epoch 14/15\n",
            "90/90 [==============================] - 507s 6s/step - loss: 0.0315 - accuracy: 0.9924 - val_loss: 0.6640 - val_accuracy: 0.8295\n",
            "Epoch 15/15\n",
            "90/90 [==============================] - 508s 6s/step - loss: 0.0220 - accuracy: 0.9953 - val_loss: 0.7623 - val_accuracy: 0.8271\n"
          ]
        }
      ]
    },
    {
      "cell_type": "markdown",
      "source": [
        "## 3.a* use (pre-trained model)transfer learning if necessary"
      ],
      "metadata": {
        "id": "1tVElYOdeLFv"
      }
    },
    {
      "cell_type": "markdown",
      "source": [
        "## 3.b* extract features of pre-trained model"
      ],
      "metadata": {
        "id": "dmv1mXDmemf3"
      }
    },
    {
      "cell_type": "markdown",
      "source": [
        "## 3.c* match test data to inputshape of neural network"
      ],
      "metadata": {
        "id": "GhkKFD-qe08J"
      }
    },
    {
      "cell_type": "markdown",
      "source": [
        "## 3.d* match output data of a neural network to speicifed inputshape for test data"
      ],
      "metadata": {
        "id": "H4ANWhOVfCB5"
      }
    },
    {
      "cell_type": "markdown",
      "source": [
        "## 3.e* use batch loading of data"
      ],
      "metadata": {
        "id": "7VHZGRK2fNL4"
      }
    },
    {
      "cell_type": "markdown",
      "source": [
        "## 3.f* use callbacks to trigger the end of training cycles"
      ],
      "metadata": {
        "id": "uwpJLglnfTMZ"
      }
    },
    {
      "cell_type": "markdown",
      "source": [
        "# 4. Evaluate the model"
      ],
      "metadata": {
        "id": "4PzfKC8xbz70"
      }
    },
    {
      "cell_type": "markdown",
      "source": [
        "## 4.a Visualize the model"
      ],
      "metadata": {
        "id": "xOGL_6XBb0Mb"
      }
    },
    {
      "cell_type": "markdown",
      "source": [
        "## 4.b* Plot loss and accuracy of a trained model"
      ],
      "metadata": {
        "id": "vFt0YPBQdQ8i"
      }
    },
    {
      "cell_type": "code",
      "source": [
        "#-----------------------------------------------------------\n",
        "# Retrieve a list of list results on training and test data\n",
        "# sets for each training epoch\n",
        "#-----------------------------------------------------------\n",
        "acc=history.history['accuracy']\n",
        "val_acc=history.history['val_accuracy']\n",
        "loss=history.history['loss']\n",
        "val_loss=history.history['val_loss']\n",
        "\n",
        "epochs=range(len(acc)) # Get number of epochs\n",
        "\n",
        "#------------------------------------------------\n",
        "# Plot training and validation accuracy per epoch\n",
        "#------------------------------------------------\n",
        "plt.plot(epochs, acc, 'r', \"Training Accuracy\")\n",
        "plt.plot(epochs, val_acc, 'b', \"Validation Accuracy\")\n",
        "plt.title('Training and validation accuracy')\n",
        "plt.show()\n",
        "print(\"\")\n",
        "\n",
        "#------------------------------------------------\n",
        "# Plot training and validation loss per epoch\n",
        "#------------------------------------------------\n",
        "plt.plot(epochs, loss, 'r', \"Training Loss\")\n",
        "plt.plot(epochs, val_loss, 'b', \"Validation Loss\")\n",
        "plt.show()"
      ],
      "metadata": {
        "colab": {
          "base_uri": "https://localhost:8080/",
          "height": 546
        },
        "id": "f4plnprxXTZc",
        "outputId": "612fcd7f-e6e3-4fff-cf77-85e088dc5464"
      },
      "execution_count": 18,
      "outputs": [
        {
          "output_type": "display_data",
          "data": {
            "text/plain": [
              "<Figure size 432x288 with 1 Axes>"
            ],
            "image/png": "[encoded data removed]"
          },
          "metadata": {
            "needs_background": "light"
          }
        },
        {
          "output_type": "stream",
          "name": "stdout",
          "text": [
            "\n"
          ]
        },
        {
          "output_type": "display_data",
          "data": {
            "text/plain": [
              "<Figure size 432x288 with 1 Axes>"
            ],
            "image/png": "[encoded data removed]"
          },
          "metadata": {
            "needs_background": "light"
          }
        }
      ]
    },
    {
      "cell_type": "markdown",
      "source": [
        "## 4.c* use model to predict results"
      ],
      "metadata": {
        "id": "WoYt9_ZzdorI"
      }
    },
    {
      "cell_type": "code",
      "source": [
        ""
      ],
      "metadata": {
        "id": "SwGtKDLlb0W5"
      },
      "execution_count": 18,
      "outputs": []
    },
    {
      "cell_type": "code",
      "source": [
        ""
      ],
      "metadata": {
        "id": "1DoMgb5zb0fT"
      },
      "execution_count": 18,
      "outputs": []
    },
    {
      "cell_type": "code",
      "source": [
        ""
      ],
      "metadata": {
        "id": "xMXTefoQb0-B"
      },
      "execution_count": 18,
      "outputs": []
    },
    {
      "cell_type": "code",
      "source": [
        ""
      ],
      "metadata": {
        "id": "4Ily4ADdb1FD"
      },
      "execution_count": 18,
      "outputs": []
    }
  ]
}