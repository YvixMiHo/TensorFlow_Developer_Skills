{
  "nbformat": 4,
  "nbformat_minor": 0,
  "metadata": {
    "colab": {
      "name": "FoodClassification_Using_Transfer_Learning.ipynb",
      "provenance": [],
      "collapsed_sections": [],
      "authorship_tag": "ABX9TyPI4Xxu7D+K43vyCWjoH7zq",
      "include_colab_link": true
    },
    "kernelspec": {
      "name": "python3",
      "display_name": "Python 3"
    },
    "language_info": {
      "name": "python"
    },
    "accelerator": "GPU",
    "gpuClass": "standard"
  },
  "cells": [
    {
      "cell_type": "markdown",
      "metadata": {
        "id": "view-in-github",
        "colab_type": "text"
      },
      "source": [
        "<a href=\"https://colab.research.google.com/github/YvixMiHo/TensorFlow_Developer_Skills/blob/main/FoodClassification_Using_Transfer_Learning.ipynb\" target=\"_parent\"><img src=\"https://colab.research.google.com/assets/colab-badge.svg\" alt=\"Open In Colab\"/></a>"
      ]
    },
    {
      "cell_type": "markdown",
      "source": [
        "# 1. Import Depenedencies"
      ],
      "metadata": {
        "id": "t_Pye_Crbqqi"
      }
    },
    {
      "cell_type": "code",
      "source": [
        "import os\n",
        "import zipfile\n",
        "import datetime\n",
        "import numpy as np\n",
        "import pandas as pd \n",
        "import tensorflow as tf\n",
        "import tensorflow_hub as hub\n",
        "import matplotlib.pyplot as plt\n",
        "from tensorflow.keras import optimizers, losses\n",
        "from tensorflow.keras.preprocessing.image import ImageDataGenerator\n"
      ],
      "metadata": {
        "id": "PWXnqAJ0SalT"
      },
      "execution_count": 1,
      "outputs": []
    },
    {
      "cell_type": "markdown",
      "source": [
        "##1.a Helper Functions"
      ],
      "metadata": {
        "id": "zEs79zAGaNw4"
      }
    },
    {
      "cell_type": "code",
      "source": [
        "class myCallback(tf.keras.callbacks.Callback):\n",
        "    def on_epoch_end(self, epoch, logs={}):\n",
        "        if (logs.get('acc') > 0.80):\n",
        "            print(\"\\nReached 80% accuracy so cancelling training!\")\n",
        "            self.model.stop_training = True\n"
      ],
      "metadata": {
        "id": "hwoiWYm5aVxi"
      },
      "execution_count": 2,
      "outputs": []
    },
    {
      "cell_type": "code",
      "source": [
        "def create_tensorboard_callback(dir_name, experiment_name):\n",
        "  log_dir = dir_name + \"/\" + experiment_name + \"/\" + datetime.datetime.now().strftime(\"%Y%m%d-%H%M%S\")\n",
        "  tensorboard_callback = tf.keras.callbacks.TensorBoard(log_dir=log_dir)\n",
        "  print(f\"saving tensorboard log to: {log_dir}\")\n",
        "  return tensorboard_callback"
      ],
      "metadata": {
        "id": "qziZrzIvkfbB"
      },
      "execution_count": 3,
      "outputs": []
    },
    {
      "cell_type": "code",
      "source": [
        "def create_model(model_url, num_classes):\n",
        "  feature_extractor_layer = hub.KerasLayer(model_url,\n",
        "                                           trainable=False,\n",
        "                                           name = \"feature_extraction_layer\",\n",
        "                                           input_shape = IMAGE_SHAPE + (3,))\n",
        "  model = tf.keras.Sequential([\n",
        "                               feature_extractor_layer,\n",
        "                               tf.keras.layers.Dense(num_classes, activation = 'softmax', name = 'output_layer')\n",
        "\n",
        "  ])\n",
        "\n",
        "  return model"
      ],
      "metadata": {
        "id": "VTfs82g-mZuv"
      },
      "execution_count": 4,
      "outputs": []
    },
    {
      "cell_type": "code",
      "source": [
        "def plot_loss_curves(history):\n",
        "  loss = history.history[\"loss\"]\n",
        "  val_loss = history.history[\"val_loss\"]\n",
        "\n",
        "  accuracy = history.history[\"accuracy\"]\n",
        "  val_accuracy = history.history[\"val_accuracy\"]\n",
        "\n",
        "  epochs = range(len(history.history[\"loss\"]))\n",
        "\n",
        "  plt.plot(epochs, loss, label = \"training_loss\")\n",
        "  plt.plot(epochs, val_loss, label = \"val_loss\")\n",
        "  plt.title(\"loss\")\n",
        "  plt.title(\"epochs\")\n",
        "  plt.legend()\n",
        "\n",
        "  plt.figure()\n",
        "  plt.plot(epochs, accuracy, label = \"training_accuracy\")\n",
        "  plt.plot(epochs, val_accuracy, label = \"val_accuracy\")\n",
        "  plt.title(\"accuracy\")\n",
        "  plt.title(\"epochs\")\n",
        "  plt.legend()\n"
      ],
      "metadata": {
        "id": "tNJlYE_am8cn"
      },
      "execution_count": 21,
      "outputs": []
    },
    {
      "cell_type": "markdown",
      "source": [
        "##1.b Defines"
      ],
      "metadata": {
        "id": "cwkpfE6zaR4V"
      }
    },
    {
      "cell_type": "code",
      "source": [
        "IMAGE_SHAPE = (244,224)\n",
        "BATCH_SIZE = 32\n",
        "NUMBER_CLASSES = 10\n",
        "EPOCHS = 5"
      ],
      "metadata": {
        "id": "sbY7EJ8zfaUh"
      },
      "execution_count": 5,
      "outputs": []
    },
    {
      "cell_type": "markdown",
      "source": [
        "# 2. Load Enviornment / Data set"
      ],
      "metadata": {
        "id": "2C-hG0qCbzc3"
      }
    },
    {
      "cell_type": "code",
      "source": [
        "!wget https://storage.googleapis.com/ztm_tf_course/food_vision/10_food_classes_10_percent.zip"
      ],
      "metadata": {
        "id": "8h2wByPYSYoc",
        "colab": {
          "base_uri": "https://localhost:8080/"
        },
        "outputId": "d18a7d8b-e7f2-4c8f-e7d5-0fcbc26deb98"
      },
      "execution_count": 6,
      "outputs": [
        {
          "output_type": "stream",
          "name": "stdout",
          "text": [
            "--2022-07-04 14:20:46--  https://storage.googleapis.com/ztm_tf_course/food_vision/10_food_classes_10_percent.zip\n",
            "Resolving storage.googleapis.com (storage.googleapis.com)... 142.251.12.128, 142.250.4.128, 74.125.200.128, ...\n",
            "Connecting to storage.googleapis.com (storage.googleapis.com)|142.251.12.128|:443... connected.\n",
            "HTTP request sent, awaiting response... 200 OK\n",
            "Length: 168546183 (161M) [application/zip]\n",
            "Saving to: ‘10_food_classes_10_percent.zip’\n",
            "\n",
            "10_food_classes_10_ 100%[===================>] 160.74M   159MB/s    in 1.0s    \n",
            "\n",
            "2022-07-04 14:20:47 (159 MB/s) - ‘10_food_classes_10_percent.zip’ saved [168546183/168546183]\n",
            "\n"
          ]
        }
      ]
    },
    {
      "cell_type": "code",
      "source": [
        "zipref = zipfile.ZipFile(\"10_food_classes_10_percent.zip\")\n",
        "zipref.extractall()\n",
        "zipref.close()"
      ],
      "metadata": {
        "id": "9DSEWW3hdwuD"
      },
      "execution_count": 7,
      "outputs": []
    },
    {
      "cell_type": "code",
      "source": [
        "resnet_url = \"https://tfhub.dev/google/imagenet/resnet_v2_50/feature_vector/4\"\n",
        "efficentnet_url = \"https://tfhub.dev/tensorflow/efficientnet/b0/feature-vector/1\""
      ],
      "metadata": {
        "id": "nD-MWht5nuyI"
      },
      "execution_count": 8,
      "outputs": []
    },
    {
      "cell_type": "markdown",
      "source": [
        "## 2.a Make sense of the data, use confusion matrix if necessary"
      ],
      "metadata": {
        "id": "TMRIZYj_bzsn"
      }
    },
    {
      "cell_type": "code",
      "source": [
        "for dirpath, dirnames, filenames in os.walk(\"10_food_classes_10_percent\"):\n",
        "  print(f\"There are {len(dirnames)} directorties and {len(filenames)} images in '{dirpath}'.\")"
      ],
      "metadata": {
        "id": "Lvf1tWPt3ANZ",
        "colab": {
          "base_uri": "https://localhost:8080/"
        },
        "outputId": "099a672b-cff7-4e6e-a8d3-92e8d4fa7cc7"
      },
      "execution_count": 9,
      "outputs": [
        {
          "output_type": "stream",
          "name": "stdout",
          "text": [
            "There are 2 directorties and 0 images in '10_food_classes_10_percent'.\n",
            "There are 10 directorties and 0 images in '10_food_classes_10_percent/train'.\n",
            "There are 0 directorties and 75 images in '10_food_classes_10_percent/train/ramen'.\n",
            "There are 0 directorties and 75 images in '10_food_classes_10_percent/train/chicken_curry'.\n",
            "There are 0 directorties and 75 images in '10_food_classes_10_percent/train/pizza'.\n",
            "There are 0 directorties and 75 images in '10_food_classes_10_percent/train/hamburger'.\n",
            "There are 0 directorties and 75 images in '10_food_classes_10_percent/train/grilled_salmon'.\n",
            "There are 0 directorties and 75 images in '10_food_classes_10_percent/train/chicken_wings'.\n",
            "There are 0 directorties and 75 images in '10_food_classes_10_percent/train/steak'.\n",
            "There are 0 directorties and 75 images in '10_food_classes_10_percent/train/fried_rice'.\n",
            "There are 0 directorties and 75 images in '10_food_classes_10_percent/train/sushi'.\n",
            "There are 0 directorties and 75 images in '10_food_classes_10_percent/train/ice_cream'.\n",
            "There are 10 directorties and 0 images in '10_food_classes_10_percent/test'.\n",
            "There are 0 directorties and 250 images in '10_food_classes_10_percent/test/ramen'.\n",
            "There are 0 directorties and 250 images in '10_food_classes_10_percent/test/chicken_curry'.\n",
            "There are 0 directorties and 250 images in '10_food_classes_10_percent/test/pizza'.\n",
            "There are 0 directorties and 250 images in '10_food_classes_10_percent/test/hamburger'.\n",
            "There are 0 directorties and 250 images in '10_food_classes_10_percent/test/grilled_salmon'.\n",
            "There are 0 directorties and 250 images in '10_food_classes_10_percent/test/chicken_wings'.\n",
            "There are 0 directorties and 250 images in '10_food_classes_10_percent/test/steak'.\n",
            "There are 0 directorties and 250 images in '10_food_classes_10_percent/test/fried_rice'.\n",
            "There are 0 directorties and 250 images in '10_food_classes_10_percent/test/sushi'.\n",
            "There are 0 directorties and 250 images in '10_food_classes_10_percent/test/ice_cream'.\n"
          ]
        }
      ]
    },
    {
      "cell_type": "code",
      "source": [
        "train_dir = \"10_food_classes_10_percent/train/\"\n",
        "test_dir = \"10_food_classes_10_percent/test/\"\n",
        "\n",
        "train_data = ImageDataGenerator(rescale = 1/255.0)\n",
        "test_data = ImageDataGenerator(rescale = 1/255.0)\n",
        "\n",
        "print(\"training images:\")\n",
        "train_data_imgs = train_data.flow_from_directory(train_dir,\n",
        "                                                 target_size = IMAGE_SHAPE,\n",
        "                                                 batch_size = BATCH_SIZE,\n",
        "                                                 class_mode = \"categorical\")\n",
        "print(\"testing images:\")\n",
        "test_data_imgs = test_data.flow_from_directory(test_dir,\n",
        "                                                 target_size = IMAGE_SHAPE,\n",
        "                                                 batch_size = BATCH_SIZE,\n",
        "                                                 class_mode = \"categorical\")"
      ],
      "metadata": {
        "id": "1IlvJW2-3D9_",
        "colab": {
          "base_uri": "https://localhost:8080/"
        },
        "outputId": "6e124b13-db1e-40fd-cf46-774a90dc7b68"
      },
      "execution_count": 10,
      "outputs": [
        {
          "output_type": "stream",
          "name": "stdout",
          "text": [
            "training images:\n",
            "Found 750 images belonging to 10 classes.\n",
            "testing images:\n",
            "Found 2500 images belonging to 10 classes.\n"
          ]
        }
      ]
    },
    {
      "cell_type": "markdown",
      "source": [
        "##2.b Feature extraction model\n",
        "set up callback to allow other code to run while training model\n",
        "- create a tensorboard callback"
      ],
      "metadata": {
        "id": "0Povg1kr3NeB"
      }
    },
    {
      "cell_type": "code",
      "source": [
        "resnet_model = create_model(resnet_url,num_classes=train_data_imgs.num_classes)"
      ],
      "metadata": {
        "id": "ANS7oTyxkXs4"
      },
      "execution_count": 11,
      "outputs": []
    },
    {
      "cell_type": "code",
      "source": [
        "efficentnet_model = create_model(efficentnet_url,num_classes=train_data_imgs.num_classes)"
      ],
      "metadata": {
        "id": "pmMyBR5enVQP"
      },
      "execution_count": 23,
      "outputs": []
    },
    {
      "cell_type": "code",
      "source": [
        "resnet_model.compile(loss = losses.CategoricalCrossentropy(),\n",
        "                     optimizer = optimizers.Adam(lr = 0.001),\n",
        "                     metrics = [\"accuracy\"])"
      ],
      "metadata": {
        "colab": {
          "base_uri": "https://localhost:8080/"
        },
        "id": "Zty5hpUjrmqT",
        "outputId": "601baceb-de41-41ed-8b1b-05ea8cbcd8dc"
      },
      "execution_count": 12,
      "outputs": [
        {
          "output_type": "stream",
          "name": "stderr",
          "text": [
            "/usr/local/lib/python3.7/dist-packages/keras/optimizer_v2/adam.py:105: UserWarning: The `lr` argument is deprecated, use `learning_rate` instead.\n",
            "  super(Adam, self).__init__(name, **kwargs)\n"
          ]
        }
      ]
    },
    {
      "cell_type": "code",
      "source": [
        "efficentnet_model.compile(loss = losses.CategoricalCrossentropy(),\n",
        "                     optimizer = optimizers.Adam(lr = 0.001),\n",
        "                     metrics = [\"accuracy\"])"
      ],
      "metadata": {
        "colab": {
          "base_uri": "https://localhost:8080/"
        },
        "id": "w0pCX9y0ndpY",
        "outputId": "49d86eb2-1365-46aa-f8e6-912fb1189cda"
      },
      "execution_count": 24,
      "outputs": [
        {
          "output_type": "stream",
          "name": "stderr",
          "text": [
            "/usr/local/lib/python3.7/dist-packages/keras/optimizer_v2/adam.py:105: UserWarning: The `lr` argument is deprecated, use `learning_rate` instead.\n",
            "  super(Adam, self).__init__(name, **kwargs)\n"
          ]
        }
      ]
    },
    {
      "cell_type": "code",
      "source": [
        "resnet_model.summary()"
      ],
      "metadata": {
        "colab": {
          "base_uri": "https://localhost:8080/"
        },
        "id": "4xMf_GberdeV",
        "outputId": "47285fad-82fd-4b7e-ec84-2b4a360013ee"
      },
      "execution_count": 13,
      "outputs": [
        {
          "output_type": "stream",
          "name": "stdout",
          "text": [
            "Model: \"sequential\"\n",
            "_________________________________________________________________\n",
            " Layer (type)                Output Shape              Param #   \n",
            "=================================================================\n",
            " feature_extraction_layer (K  (None, 2048)             23564800  \n",
            " erasLayer)                                                      \n",
            "                                                                 \n",
            " output_layer (Dense)        (None, 10)                20490     \n",
            "                                                                 \n",
            "=================================================================\n",
            "Total params: 23,585,290\n",
            "Trainable params: 20,490\n",
            "Non-trainable params: 23,564,800\n",
            "_________________________________________________________________\n"
          ]
        }
      ]
    },
    {
      "cell_type": "code",
      "source": [
        "efficentnet_model.summary()"
      ],
      "metadata": {
        "colab": {
          "base_uri": "https://localhost:8080/"
        },
        "id": "h_IlWbtMnm7N",
        "outputId": "dcf3cfb2-ad17-45ec-c103-b469fb01309b"
      },
      "execution_count": 25,
      "outputs": [
        {
          "output_type": "stream",
          "name": "stdout",
          "text": [
            "Model: \"sequential_1\"\n",
            "_________________________________________________________________\n",
            " Layer (type)                Output Shape              Param #   \n",
            "=================================================================\n",
            " feature_extraction_layer (K  (None, 1280)             4049564   \n",
            " erasLayer)                                                      \n",
            "                                                                 \n",
            " output_layer (Dense)        (None, 10)                12810     \n",
            "                                                                 \n",
            "=================================================================\n",
            "Total params: 4,062,374\n",
            "Trainable params: 12,810\n",
            "Non-trainable params: 4,049,564\n",
            "_________________________________________________________________\n"
          ]
        }
      ]
    },
    {
      "cell_type": "code",
      "source": [
        "resnet_history = resnet_model.fit(train_data_imgs,\n",
        "                                  epochs = EPOCHS,\n",
        "                                  steps_per_epoch=len(train_data_imgs),\n",
        "                                  validation_data=test_data_imgs,\n",
        "                                  callbacks = [create_tensorboard_callback(\n",
        "                                      dir_name = \"tensorflow_hub\",\n",
        "                                      experiment_name = \"resnet50V2\"\n",
        "                                  )])"
      ],
      "metadata": {
        "colab": {
          "base_uri": "https://localhost:8080/"
        },
        "id": "4nCl8YFNrik-",
        "outputId": "79b8d29b-9af0-4a01-cfca-6e715110b974"
      },
      "execution_count": 14,
      "outputs": [
        {
          "output_type": "stream",
          "name": "stdout",
          "text": [
            "saving tensorboard log to: tensorflow_hub/resnet50V2/20220704-142101\n",
            "Epoch 1/5\n",
            "24/24 [==============================] - 33s 788ms/step - loss: 1.7720 - accuracy: 0.4093 - val_loss: 1.1642 - val_accuracy: 0.6372\n",
            "Epoch 2/5\n",
            "24/24 [==============================] - 17s 738ms/step - loss: 0.8529 - accuracy: 0.7520 - val_loss: 0.8330 - val_accuracy: 0.7436\n",
            "Epoch 3/5\n",
            "24/24 [==============================] - 16s 701ms/step - loss: 0.5999 - accuracy: 0.8413 - val_loss: 0.7443 - val_accuracy: 0.7552\n",
            "Epoch 4/5\n",
            "24/24 [==============================] - 17s 709ms/step - loss: 0.4716 - accuracy: 0.8680 - val_loss: 0.6967 - val_accuracy: 0.7700\n",
            "Epoch 5/5\n",
            "24/24 [==============================] - 17s 710ms/step - loss: 0.3758 - accuracy: 0.9093 - val_loss: 0.6535 - val_accuracy: 0.7888\n"
          ]
        }
      ]
    },
    {
      "cell_type": "code",
      "source": [
        "efficentnethisotry = efficentnet_model.fit(train_data_imgs,\n",
        "                                  epochs = EPOCHS,\n",
        "                                  steps_per_epoch=len(train_data_imgs),\n",
        "                                  validation_data=test_data_imgs,\n",
        "                                  callbacks = [create_tensorboard_callback(\n",
        "                                      dir_name = \"tensorflow_hub\",\n",
        "                                      experiment_name = \"Efficentnetb0\"\n",
        "                                  )])"
      ],
      "metadata": {
        "colab": {
          "base_uri": "https://localhost:8080/"
        },
        "id": "gYjRafZ3ns_c",
        "outputId": "d3f8e77c-6fef-4000-ff62-0100e3b20847"
      },
      "execution_count": 29,
      "outputs": [
        {
          "output_type": "stream",
          "name": "stdout",
          "text": [
            "saving tensorboard log to: tensorflow_hub/Efficentnetb0/20220704-143243\n",
            "Epoch 1/5\n",
            "24/24 [==============================] - 26s 740ms/step - loss: 1.8580 - accuracy: 0.4053 - val_loss: 1.2831 - val_accuracy: 0.7484\n",
            "Epoch 2/5\n",
            "24/24 [==============================] - 16s 695ms/step - loss: 1.0661 - accuracy: 0.7720 - val_loss: 0.8599 - val_accuracy: 0.8296\n",
            "Epoch 3/5\n",
            "24/24 [==============================] - 16s 674ms/step - loss: 0.7593 - accuracy: 0.8413 - val_loss: 0.6922 - val_accuracy: 0.8516\n",
            "Epoch 4/5\n",
            "24/24 [==============================] - 16s 677ms/step - loss: 0.6138 - accuracy: 0.8667 - val_loss: 0.6056 - val_accuracy: 0.8612\n",
            "Epoch 5/5\n",
            "24/24 [==============================] - 15s 664ms/step - loss: 0.5201 - accuracy: 0.8840 - val_loss: 0.5550 - val_accuracy: 0.8648\n"
          ]
        }
      ]
    },
    {
      "cell_type": "markdown",
      "source": [
        "## 2.c Validate data shape"
      ],
      "metadata": {
        "id": "dQUTbOSAcBBJ"
      }
    },
    {
      "cell_type": "code",
      "source": [
        "plot_loss_curves(resnet_history)"
      ],
      "metadata": {
        "id": "QuYW-JGm3bnR",
        "colab": {
          "base_uri": "https://localhost:8080/",
          "height": 545
        },
        "outputId": "3e57826c-965f-4ffb-f1ce-153c996d2589"
      },
      "execution_count": 22,
      "outputs": [
        {
          "output_type": "display_data",
          "data": {
            "text/plain": [
              "<Figure size 432x288 with 1 Axes>"
            ],
            "image/png": "[encoded data removed]"
          },
          "metadata": {
            "needs_background": "light"
          }
        },
        {
          "output_type": "display_data",
          "data": {
            "text/plain": [
              "<Figure size 432x288 with 1 Axes>"
            ],
            "image/png": "[encoded data removed]"
          },
          "metadata": {
            "needs_background": "light"
          }
        }
      ]
    },
    {
      "cell_type": "code",
      "source": [
        "plot_loss_curves(efficentnethisotry)"
      ],
      "metadata": {
        "colab": {
          "base_uri": "https://localhost:8080/",
          "height": 545
        },
        "id": "J1kJsvWroBit",
        "outputId": "4271b696-abae-4e5e-e8f7-6c8faf236d5b"
      },
      "execution_count": 30,
      "outputs": [
        {
          "output_type": "display_data",
          "data": {
            "text/plain": [
              "<Figure size 432x288 with 1 Axes>"
            ],
            "image/png": "[encoded data removed]"
          },
          "metadata": {
            "needs_background": "light"
          }
        },
        {
          "output_type": "display_data",
          "data": {
            "text/plain": [
              "<Figure size 432x288 with 1 Axes>"
            ],
            "image/png": "[encoded data removed]"
          },
          "metadata": {
            "needs_background": "light"
          }
        }
      ]
    },
    {
      "cell_type": "markdown",
      "source": [
        "## 2.d preprocess data"
      ],
      "metadata": {
        "id": "9TIwas5ZdFnA"
      }
    },
    {
      "cell_type": "markdown",
      "source": [
        "# 3. Create, Train and Fit model"
      ],
      "metadata": {
        "id": "zmyNdRpLbz0R"
      }
    },
    {
      "cell_type": "markdown",
      "source": [
        "# 4. Evaluate the model"
      ],
      "metadata": {
        "id": "4PzfKC8xbz70"
      }
    },
    {
      "cell_type": "code",
      "source": [
        ""
      ],
      "metadata": {
        "id": "SwGtKDLlb0W5"
      },
      "execution_count": null,
      "outputs": []
    },
    {
      "cell_type": "code",
      "source": [
        ""
      ],
      "metadata": {
        "id": "1DoMgb5zb0fT"
      },
      "execution_count": null,
      "outputs": []
    },
    {
      "cell_type": "code",
      "source": [
        ""
      ],
      "metadata": {
        "id": "xMXTefoQb0-B"
      },
      "execution_count": null,
      "outputs": []
    },
    {
      "cell_type": "code",
      "source": [
        ""
      ],
      "metadata": {
        "id": "4Ily4ADdb1FD"
      },
      "execution_count": null,
      "outputs": []
    }
  ]
}