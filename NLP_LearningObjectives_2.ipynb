{
  "nbformat": 4,
  "nbformat_minor": 0,
  "metadata": {
    "colab": {
      "name": "NLP_LearningObjectives_2.ipynb",
      "provenance": [],
      "collapsed_sections": [],
      "authorship_tag": "ABX9TyM2M/saIEv6BEKfLzaBkDWv",
      "include_colab_link": true
    },
    "kernelspec": {
      "name": "python3",
      "display_name": "Python 3"
    },
    "language_info": {
      "name": "python"
    }
  },
  "cells": [
    {
      "cell_type": "markdown",
      "metadata": {
        "id": "view-in-github",
        "colab_type": "text"
      },
      "source": [
        "<a href=\"https://colab.research.google.com/github/YvixMiHo/TensorFlow_Developer_Skills/blob/main/NLP_LearningObjectives_2.ipynb\" target=\"_parent\"><img src=\"https://colab.research.google.com/assets/colab-badge.svg\" alt=\"Open In Colab\"/></a>"
      ]
    },
    {
      "cell_type": "markdown",
      "source": [
        "# 1. Import Depenedencies"
      ],
      "metadata": {
        "id": "t_Pye_Crbqqi"
      }
    },
    {
      "cell_type": "code",
      "source": [
        "import numpy as np \n",
        "import matplotlib.pyplot as plt\n",
        "import tensorflow as tf\n",
        "from tensorflow.keras.models import Sequential\n",
        "from tensorflow.keras import optimizers, losses\n",
        "from tensorflow.keras.utils import to_categorical \n",
        "from tensorflow.keras.preprocessing.text import Tokenizer\n",
        "from tensorflow.keras.preprocessing.sequence import pad_sequences\n",
        "from tensorflow.keras.layers import Embedding, LSTM, Dense, Bidirectional"
      ],
      "metadata": {
        "id": "PWXnqAJ0SalT"
      },
      "execution_count": 25,
      "outputs": []
    },
    {
      "cell_type": "markdown",
      "source": [
        "# 2. Load Enviornment / Data set"
      ],
      "metadata": {
        "id": "2C-hG0qCbzc3"
      }
    },
    {
      "cell_type": "code",
      "source": [
        "# sonnets.txt\n",
        "!gdown --id 108jAePKK4R3BVYBbYJZ32JWUwxeMg20K"
      ],
      "metadata": {
        "id": "8h2wByPYSYoc",
        "colab": {
          "base_uri": "https://localhost:8080/"
        },
        "outputId": "d993b91f-27f6-487c-faf8-5454eebbadf6"
      },
      "execution_count": 26,
      "outputs": [
        {
          "output_type": "stream",
          "name": "stdout",
          "text": [
            "/usr/local/lib/python3.7/dist-packages/gdown/cli.py:131: FutureWarning: Option `--id` was deprecated in version 4.3.1 and will be removed in 5.0. You don't need to pass it anymore to use a file ID.\n",
            "  category=FutureWarning,\n",
            "Downloading...\n",
            "From: https://drive.google.com/uc?id=108jAePKK4R3BVYBbYJZ32JWUwxeMg20K\n",
            "To: /content/sonnets.txt\n",
            "100% 93.6k/93.6k [00:00<00:00, 45.4MB/s]\n"
          ]
        }
      ]
    },
    {
      "cell_type": "markdown",
      "source": [
        "## 2.a Make sense of the data, use confusion matrix if necessary"
      ],
      "metadata": {
        "id": "TMRIZYj_bzsn"
      }
    },
    {
      "cell_type": "code",
      "source": [
        "# Define path for file with sonnets\n",
        "SONNETS_FILE = './sonnets.txt'\n",
        "\n",
        "# Read the data\n",
        "with open('./sonnets.txt') as f:\n",
        "    data = f.read()\n",
        "\n",
        "# Convert to lower case and save as a list\n",
        "corpus = data.lower().split(\"\\n\")\n",
        "\n",
        "print(f\"There are {len(corpus)} lines of sonnets\\n\")\n",
        "print(f\"The first 5 lines look like this:\\n\")\n",
        "for i in range(5):\n",
        "  print(corpus[i])"
      ],
      "metadata": {
        "id": "Lvf1tWPt3ANZ",
        "colab": {
          "base_uri": "https://localhost:8080/"
        },
        "outputId": "83e0860e-0112-4304-a0a4-55c7f1a3f78f"
      },
      "execution_count": 27,
      "outputs": [
        {
          "output_type": "stream",
          "name": "stdout",
          "text": [
            "There are 2159 lines of sonnets\n",
            "\n",
            "The first 5 lines look like this:\n",
            "\n",
            "from fairest creatures we desire increase,\n",
            "that thereby beauty's rose might never die,\n",
            "but as the riper should by time decease,\n",
            "his tender heir might bear his memory:\n",
            "but thou, contracted to thine own bright eyes,\n"
          ]
        }
      ]
    },
    {
      "cell_type": "code",
      "source": [
        "tokenizer = Tokenizer()\n",
        "tokenizer.fit_on_texts(corpus)\n",
        "total_words = len(tokenizer.word_index) + 1"
      ],
      "metadata": {
        "id": "1IlvJW2-3D9_"
      },
      "execution_count": 28,
      "outputs": []
    },
    {
      "cell_type": "code",
      "source": [
        "corpus[0]"
      ],
      "metadata": {
        "id": "0Povg1kr3NeB",
        "colab": {
          "base_uri": "https://localhost:8080/",
          "height": 35
        },
        "outputId": "5a3364d9-eaef-4196-c592-28da0f57eb36"
      },
      "execution_count": 29,
      "outputs": [
        {
          "output_type": "execute_result",
          "data": {
            "text/plain": [
              "'from fairest creatures we desire increase,'"
            ],
            "application/vnd.google.colaboratory.intrinsic+json": {
              "type": "string"
            }
          },
          "metadata": {},
          "execution_count": 29
        }
      ]
    },
    {
      "cell_type": "code",
      "source": [
        "tokenizer.texts_to_sequences([corpus[0]])"
      ],
      "metadata": {
        "colab": {
          "base_uri": "https://localhost:8080/"
        },
        "id": "u6GQxcCnPnER",
        "outputId": "dd70e5df-8384-4453-8e2c-6ddc2da05694"
      },
      "execution_count": 30,
      "outputs": [
        {
          "output_type": "execute_result",
          "data": {
            "text/plain": [
              "[[34, 417, 877, 166, 213, 517]]"
            ]
          },
          "metadata": {},
          "execution_count": 30
        }
      ]
    },
    {
      "cell_type": "code",
      "source": [
        "tokenizer.texts_to_sequences([corpus[0]])[0]"
      ],
      "metadata": {
        "colab": {
          "base_uri": "https://localhost:8080/"
        },
        "id": "PAJQPaHdPr6E",
        "outputId": "1cc46789-b20b-4d49-82da-6f4469b56467"
      },
      "execution_count": 31,
      "outputs": [
        {
          "output_type": "execute_result",
          "data": {
            "text/plain": [
              "[34, 417, 877, 166, 213, 517]"
            ]
          },
          "metadata": {},
          "execution_count": 31
        }
      ]
    },
    {
      "cell_type": "code",
      "source": [
        "def n_gram_seqs(corpus, tokenizer):\n",
        "\n",
        "    input_sequences = []\n",
        "    \n",
        "    for line in corpus:\n",
        "      token_list = tokenizer.texts_to_sequences([line])[0]\n",
        "      for index in range(1,len(token_list)):\n",
        "        n_gram = token_list[:index+1]\n",
        "        input_sequences.append(n_gram)\n",
        "    \n",
        "    return input_sequences"
      ],
      "metadata": {
        "id": "N9jJFAoHPyPt"
      },
      "execution_count": 32,
      "outputs": []
    },
    {
      "cell_type": "markdown",
      "source": [
        "## 2.b Validate data shape*"
      ],
      "metadata": {
        "id": "dQUTbOSAcBBJ"
      }
    },
    {
      "cell_type": "code",
      "source": [
        "# Test your function with one example\n",
        "first_example_sequence = n_gram_seqs([corpus[0]], tokenizer)\n",
        "\n",
        "print(\"n_gram sequences for first example look like this:\\n\")\n",
        "first_example_sequence"
      ],
      "metadata": {
        "id": "4Zoenkqu3WGy",
        "colab": {
          "base_uri": "https://localhost:8080/"
        },
        "outputId": "2e373e1e-e662-45ed-ca3c-56b431dc0f62"
      },
      "execution_count": 33,
      "outputs": [
        {
          "output_type": "stream",
          "name": "stdout",
          "text": [
            "n_gram sequences for first example look like this:\n",
            "\n"
          ]
        },
        {
          "output_type": "execute_result",
          "data": {
            "text/plain": [
              "[[34, 417],\n",
              " [34, 417, 877],\n",
              " [34, 417, 877, 166],\n",
              " [34, 417, 877, 166, 213],\n",
              " [34, 417, 877, 166, 213, 517]]"
            ]
          },
          "metadata": {},
          "execution_count": 33
        }
      ]
    },
    {
      "cell_type": "code",
      "source": [
        "next_3_examples_sequence = n_gram_seqs(corpus[1:4], tokenizer)\n",
        "\n",
        "print(\"n_gram sequences for next 3 examples look like this:\\n\")\n",
        "next_3_examples_sequence"
      ],
      "metadata": {
        "id": "QuYW-JGm3bnR",
        "colab": {
          "base_uri": "https://localhost:8080/"
        },
        "outputId": "1ba4c5ec-3874-4a52-f528-430d0c676c26"
      },
      "execution_count": 34,
      "outputs": [
        {
          "output_type": "stream",
          "name": "stdout",
          "text": [
            "n_gram sequences for next 3 examples look like this:\n",
            "\n"
          ]
        },
        {
          "output_type": "execute_result",
          "data": {
            "text/plain": [
              "[[8, 878],\n",
              " [8, 878, 134],\n",
              " [8, 878, 134, 351],\n",
              " [8, 878, 134, 351, 102],\n",
              " [8, 878, 134, 351, 102, 156],\n",
              " [8, 878, 134, 351, 102, 156, 199],\n",
              " [16, 22],\n",
              " [16, 22, 2],\n",
              " [16, 22, 2, 879],\n",
              " [16, 22, 2, 879, 61],\n",
              " [16, 22, 2, 879, 61, 30],\n",
              " [16, 22, 2, 879, 61, 30, 48],\n",
              " [16, 22, 2, 879, 61, 30, 48, 634],\n",
              " [25, 311],\n",
              " [25, 311, 635],\n",
              " [25, 311, 635, 102],\n",
              " [25, 311, 635, 102, 200],\n",
              " [25, 311, 635, 102, 200, 25],\n",
              " [25, 311, 635, 102, 200, 25, 278]]"
            ]
          },
          "metadata": {},
          "execution_count": 34
        }
      ]
    },
    {
      "cell_type": "code",
      "source": [
        "# Apply the n_gram_seqs transformation to the whole corpus\n",
        "input_sequences = n_gram_seqs(corpus, tokenizer)\n",
        "\n",
        "# Save max length \n",
        "max_sequence_len = max([len(x) for x in input_sequences])\n",
        "\n",
        "print(f\"n_grams of input_sequences have length: {len(input_sequences)}\")\n",
        "print(f\"maximum length of sequences is: {max_sequence_len}\")"
      ],
      "metadata": {
        "colab": {
          "base_uri": "https://localhost:8080/"
        },
        "id": "GxKe3saCQBrb",
        "outputId": "4ea40b97-5bd7-47f2-972b-eaf90946784d"
      },
      "execution_count": 35,
      "outputs": [
        {
          "output_type": "stream",
          "name": "stdout",
          "text": [
            "n_grams of input_sequences have length: 15462\n",
            "maximum length of sequences is: 11\n"
          ]
        }
      ]
    },
    {
      "cell_type": "code",
      "source": [
        "def pad_seqs(input_sequences, maxlen):\n",
        "\n",
        "    padded_sequences = pad_sequences(input_sequences,\n",
        "                                     maxlen=maxlen,\n",
        "                                     padding=\"pre\")\n",
        "    \n",
        "    return padded_sequences"
      ],
      "metadata": {
        "id": "XmWGs5rIQUtu"
      },
      "execution_count": 36,
      "outputs": []
    },
    {
      "cell_type": "code",
      "source": [
        "first_padded_seq = pad_seqs(first_example_sequence, len(first_example_sequence))\n",
        "first_padded_seq"
      ],
      "metadata": {
        "colab": {
          "base_uri": "https://localhost:8080/"
        },
        "id": "yrXL4RI9QWYZ",
        "outputId": "8e5e9fb5-5e24-4695-ebb6-b3067ccc8648"
      },
      "execution_count": 37,
      "outputs": [
        {
          "output_type": "execute_result",
          "data": {
            "text/plain": [
              "array([[  0,   0,   0,  34, 417],\n",
              "       [  0,   0,  34, 417, 877],\n",
              "       [  0,  34, 417, 877, 166],\n",
              "       [ 34, 417, 877, 166, 213],\n",
              "       [417, 877, 166, 213, 517]], dtype=int32)"
            ]
          },
          "metadata": {},
          "execution_count": 37
        }
      ]
    },
    {
      "cell_type": "markdown",
      "source": [
        "## 2.c Visualize the data"
      ],
      "metadata": {
        "id": "FBB-vwFNcctV"
      }
    },
    {
      "cell_type": "markdown",
      "source": [
        "## 2.d* preprocess data"
      ],
      "metadata": {
        "id": "9TIwas5ZdFnA"
      }
    },
    {
      "cell_type": "code",
      "source": [
        "input_sequences = pad_seqs(input_sequences, max_sequence_len)\n",
        "\n",
        "print(f\"padded corpus has shape: {input_sequences.shape}\")"
      ],
      "metadata": {
        "colab": {
          "base_uri": "https://localhost:8080/"
        },
        "id": "PrkYNQBBQIIm",
        "outputId": "2ecb8f2a-5b55-46a2-a9bc-fdd6476f6dd5"
      },
      "execution_count": 38,
      "outputs": [
        {
          "output_type": "stream",
          "name": "stdout",
          "text": [
            "padded corpus has shape: (15462, 11)\n"
          ]
        }
      ]
    },
    {
      "cell_type": "markdown",
      "source": [
        "## 2.e* use data augmentation and dropout"
      ],
      "metadata": {
        "id": "wBQWPAmPdym9"
      }
    },
    {
      "cell_type": "markdown",
      "source": [
        "# 3. Create, Train and Fit model"
      ],
      "metadata": {
        "id": "zmyNdRpLbz0R"
      }
    },
    {
      "cell_type": "markdown",
      "source": [
        "## 3.a* use (pre-trained model)transfer learning if necessary"
      ],
      "metadata": {
        "id": "1tVElYOdeLFv"
      }
    },
    {
      "cell_type": "markdown",
      "source": [
        "## 3.b* extract features of pre-trained model"
      ],
      "metadata": {
        "id": "dmv1mXDmemf3"
      }
    },
    {
      "cell_type": "code",
      "source": [
        "def features_and_labels(input_sequences, total_words):\n",
        "  \n",
        "    ### START CODE HERE\n",
        "    features = input_sequences[:,:-1]\n",
        "    labels = input_sequences[:,-1]\n",
        "    one_hot_labels = to_categorical(labels, num_classes=total_words)\n",
        "    ### END CODE HERE\n",
        "\n",
        "    return features, one_hot_labels"
      ],
      "metadata": {
        "id": "7rm355kqQqCE"
      },
      "execution_count": 39,
      "outputs": []
    },
    {
      "cell_type": "code",
      "source": [
        "first_features, first_labels = features_and_labels(first_padded_seq, total_words)\n",
        "\n",
        "print(f\"labels have shape: {first_labels.shape}\")\n",
        "print(\"\\nfeatures look like this:\\n\")\n",
        "first_features"
      ],
      "metadata": {
        "colab": {
          "base_uri": "https://localhost:8080/"
        },
        "id": "JGJRYbo8Qy0I",
        "outputId": "2e78818c-a494-42d4-cfcf-457b29f240e6"
      },
      "execution_count": 40,
      "outputs": [
        {
          "output_type": "stream",
          "name": "stdout",
          "text": [
            "labels have shape: (5, 3211)\n",
            "\n",
            "features look like this:\n",
            "\n"
          ]
        },
        {
          "output_type": "execute_result",
          "data": {
            "text/plain": [
              "array([[  0,   0,   0,  34],\n",
              "       [  0,   0,  34, 417],\n",
              "       [  0,  34, 417, 877],\n",
              "       [ 34, 417, 877, 166],\n",
              "       [417, 877, 166, 213]], dtype=int32)"
            ]
          },
          "metadata": {},
          "execution_count": 40
        }
      ]
    },
    {
      "cell_type": "code",
      "source": [
        "features, labels = features_and_labels(input_sequences, total_words)\n",
        "\n",
        "print(f\"features have shape: {features.shape}\")\n",
        "print(f\"labels have shape: {labels.shape}\")"
      ],
      "metadata": {
        "colab": {
          "base_uri": "https://localhost:8080/"
        },
        "id": "qGljGmxEQ4EL",
        "outputId": "d83c77d6-7a3e-4103-ccf9-72c740e2314e"
      },
      "execution_count": 41,
      "outputs": [
        {
          "output_type": "stream",
          "name": "stdout",
          "text": [
            "features have shape: (15462, 10)\n",
            "labels have shape: (15462, 3211)\n"
          ]
        }
      ]
    },
    {
      "cell_type": "code",
      "source": [
        "def create_model(total_words, max_sequence_len):\n",
        "\n",
        "    embedding_dim = 100\n",
        "\n",
        "    model = Sequential()\n",
        "    #model.add(Embedding(total_words, 100, input_length=None))\n",
        "    model.add(Embedding(total_words, embedding_dim, input_length=max_sequence_len-1)),\n",
        "    model.add(Bidirectional(tf.keras.layers.LSTM(150))),\n",
        "    model.add(Dense(total_words,activation=\"softmax\"))\n",
        "\n",
        "    # Compile the model\n",
        "    model.compile(loss=losses.CategoricalCrossentropy(),\n",
        "                  optimizer=optimizers.Adam(lr = 0.001),\n",
        "                  metrics=['accuracy']) \n",
        "\n",
        "    return model"
      ],
      "metadata": {
        "id": "05qZfUmjRJRN"
      },
      "execution_count": 42,
      "outputs": []
    },
    {
      "cell_type": "code",
      "source": [
        "# Get the untrained model\n",
        "model = create_model(total_words, max_sequence_len)\n",
        "\n",
        "# Train the model\n",
        "history = model.fit(features, labels, epochs=50, verbose=1)"
      ],
      "metadata": {
        "colab": {
          "base_uri": "https://localhost:8080/"
        },
        "id": "wbHQRc2gR2yq",
        "outputId": "b8d6a20c-285b-4762-c800-35f4c48fd357"
      },
      "execution_count": 43,
      "outputs": [
        {
          "output_type": "stream",
          "name": "stdout",
          "text": [
            "Epoch 1/50\n"
          ]
        },
        {
          "output_type": "stream",
          "name": "stderr",
          "text": [
            "/usr/local/lib/python3.7/dist-packages/keras/optimizer_v2/adam.py:105: UserWarning: The `lr` argument is deprecated, use `learning_rate` instead.\n",
            "  super(Adam, self).__init__(name, **kwargs)\n"
          ]
        },
        {
          "output_type": "stream",
          "name": "stdout",
          "text": [
            "484/484 [==============================] - 27s 48ms/step - loss: 6.8911 - accuracy: 0.0231\n",
            "Epoch 2/50\n",
            "484/484 [==============================] - 24s 50ms/step - loss: 6.4243 - accuracy: 0.0321\n",
            "Epoch 3/50\n",
            "484/484 [==============================] - 23s 48ms/step - loss: 6.1853 - accuracy: 0.0402\n",
            "Epoch 4/50\n",
            "484/484 [==============================] - 23s 48ms/step - loss: 5.9273 - accuracy: 0.0525\n",
            "Epoch 5/50\n",
            "484/484 [==============================] - 23s 48ms/step - loss: 5.6261 - accuracy: 0.0605\n",
            "Epoch 6/50\n",
            "484/484 [==============================] - 23s 48ms/step - loss: 5.2649 - accuracy: 0.0771\n",
            "Epoch 7/50\n",
            "484/484 [==============================] - 24s 50ms/step - loss: 4.8644 - accuracy: 0.0956\n",
            "Epoch 8/50\n",
            "484/484 [==============================] - 23s 48ms/step - loss: 4.4414 - accuracy: 0.1312\n",
            "Epoch 9/50\n",
            "484/484 [==============================] - 23s 48ms/step - loss: 4.0107 - accuracy: 0.1866\n",
            "Epoch 10/50\n",
            "484/484 [==============================] - 23s 48ms/step - loss: 3.6029 - accuracy: 0.2542\n",
            "Epoch 11/50\n",
            "484/484 [==============================] - 23s 48ms/step - loss: 3.2154 - accuracy: 0.3227\n",
            "Epoch 12/50\n",
            "484/484 [==============================] - 23s 48ms/step - loss: 2.8846 - accuracy: 0.3875\n",
            "Epoch 13/50\n",
            "484/484 [==============================] - 23s 48ms/step - loss: 2.5855 - accuracy: 0.4551\n",
            "Epoch 14/50\n",
            "484/484 [==============================] - 23s 48ms/step - loss: 2.3275 - accuracy: 0.5030\n",
            "Epoch 15/50\n",
            "484/484 [==============================] - 23s 48ms/step - loss: 2.1061 - accuracy: 0.5518\n",
            "Epoch 16/50\n",
            "484/484 [==============================] - 23s 48ms/step - loss: 1.9040 - accuracy: 0.5966\n",
            "Epoch 17/50\n",
            "484/484 [==============================] - 24s 50ms/step - loss: 1.7222 - accuracy: 0.6363\n",
            "Epoch 18/50\n",
            "484/484 [==============================] - 23s 47ms/step - loss: 1.5650 - accuracy: 0.6737\n",
            "Epoch 19/50\n",
            "484/484 [==============================] - 23s 47ms/step - loss: 1.4253 - accuracy: 0.7062\n",
            "Epoch 20/50\n",
            "484/484 [==============================] - 23s 48ms/step - loss: 1.3032 - accuracy: 0.7335\n",
            "Epoch 21/50\n",
            "484/484 [==============================] - 23s 48ms/step - loss: 1.1941 - accuracy: 0.7560\n",
            "Epoch 22/50\n",
            "484/484 [==============================] - 23s 48ms/step - loss: 1.1047 - accuracy: 0.7753\n",
            "Epoch 23/50\n",
            "484/484 [==============================] - 23s 47ms/step - loss: 1.0194 - accuracy: 0.7914\n",
            "Epoch 24/50\n",
            "484/484 [==============================] - 23s 48ms/step - loss: 0.9420 - accuracy: 0.8053\n",
            "Epoch 25/50\n",
            "484/484 [==============================] - 23s 48ms/step - loss: 0.8872 - accuracy: 0.8137\n",
            "Epoch 26/50\n",
            "484/484 [==============================] - 23s 48ms/step - loss: 0.8363 - accuracy: 0.8223\n",
            "Epoch 27/50\n",
            "484/484 [==============================] - 24s 50ms/step - loss: 0.7978 - accuracy: 0.8284\n",
            "Epoch 28/50\n",
            "484/484 [==============================] - 23s 48ms/step - loss: 0.7604 - accuracy: 0.8326\n",
            "Epoch 29/50\n",
            "484/484 [==============================] - 23s 48ms/step - loss: 0.7368 - accuracy: 0.8357\n",
            "Epoch 30/50\n",
            "484/484 [==============================] - 23s 47ms/step - loss: 0.7085 - accuracy: 0.8396\n",
            "Epoch 31/50\n",
            "484/484 [==============================] - 23s 48ms/step - loss: 0.6873 - accuracy: 0.8410\n",
            "Epoch 32/50\n",
            "484/484 [==============================] - 23s 48ms/step - loss: 0.6669 - accuracy: 0.8415\n",
            "Epoch 33/50\n",
            "484/484 [==============================] - 23s 48ms/step - loss: 0.6584 - accuracy: 0.8454\n",
            "Epoch 34/50\n",
            "484/484 [==============================] - 23s 47ms/step - loss: 0.6457 - accuracy: 0.8454\n",
            "Epoch 35/50\n",
            "484/484 [==============================] - 23s 47ms/step - loss: 0.6328 - accuracy: 0.8465\n",
            "Epoch 36/50\n",
            "484/484 [==============================] - 23s 47ms/step - loss: 0.6265 - accuracy: 0.8469\n",
            "Epoch 37/50\n",
            "484/484 [==============================] - 24s 50ms/step - loss: 0.6159 - accuracy: 0.8467\n",
            "Epoch 38/50\n",
            "484/484 [==============================] - 23s 47ms/step - loss: 0.6067 - accuracy: 0.8487\n",
            "Epoch 39/50\n",
            "484/484 [==============================] - 23s 47ms/step - loss: 0.6023 - accuracy: 0.8475\n",
            "Epoch 40/50\n",
            "484/484 [==============================] - 23s 47ms/step - loss: 0.5968 - accuracy: 0.8472\n",
            "Epoch 41/50\n",
            "484/484 [==============================] - 23s 47ms/step - loss: 0.5927 - accuracy: 0.8489\n",
            "Epoch 42/50\n",
            "484/484 [==============================] - 23s 47ms/step - loss: 0.5889 - accuracy: 0.8478\n",
            "Epoch 43/50\n",
            "484/484 [==============================] - 23s 47ms/step - loss: 0.5843 - accuracy: 0.8478\n",
            "Epoch 44/50\n",
            "484/484 [==============================] - 23s 47ms/step - loss: 0.5794 - accuracy: 0.8488\n",
            "Epoch 45/50\n",
            "484/484 [==============================] - 23s 47ms/step - loss: 0.5794 - accuracy: 0.8485\n",
            "Epoch 46/50\n",
            "484/484 [==============================] - 23s 47ms/step - loss: 0.5774 - accuracy: 0.8481\n",
            "Epoch 47/50\n",
            "484/484 [==============================] - 24s 49ms/step - loss: 0.5775 - accuracy: 0.8476\n",
            "Epoch 48/50\n",
            "484/484 [==============================] - 23s 47ms/step - loss: 0.5696 - accuracy: 0.8490\n",
            "Epoch 49/50\n",
            "484/484 [==============================] - 23s 47ms/step - loss: 0.5639 - accuracy: 0.8500\n",
            "Epoch 50/50\n",
            "484/484 [==============================] - 23s 47ms/step - loss: 0.5673 - accuracy: 0.8481\n"
          ]
        }
      ]
    },
    {
      "cell_type": "markdown",
      "source": [
        "## 3.c* match test data to inputshape of neural network"
      ],
      "metadata": {
        "id": "GhkKFD-qe08J"
      }
    },
    {
      "cell_type": "markdown",
      "source": [
        "## 3.d* match output data of a neural network to speicifed inputshape for test data"
      ],
      "metadata": {
        "id": "H4ANWhOVfCB5"
      }
    },
    {
      "cell_type": "markdown",
      "source": [
        "## 3.e* use batch loading of data"
      ],
      "metadata": {
        "id": "7VHZGRK2fNL4"
      }
    },
    {
      "cell_type": "markdown",
      "source": [
        "## 3.f* use callbacks to trigger the end of training cycles"
      ],
      "metadata": {
        "id": "uwpJLglnfTMZ"
      }
    },
    {
      "cell_type": "markdown",
      "source": [
        "# 4. Evaluate the model"
      ],
      "metadata": {
        "id": "4PzfKC8xbz70"
      }
    },
    {
      "cell_type": "markdown",
      "source": [
        "## 4.a Visualize the model"
      ],
      "metadata": {
        "id": "xOGL_6XBb0Mb"
      }
    },
    {
      "cell_type": "markdown",
      "source": [
        "## 4.b* Plot loss and accuracy of a trained model"
      ],
      "metadata": {
        "id": "vFt0YPBQdQ8i"
      }
    },
    {
      "cell_type": "code",
      "source": [
        "# Take a look at the training curves of your model\n",
        "\n",
        "acc = history.history['accuracy']\n",
        "loss = history.history['loss']\n",
        "\n",
        "epochs = range(len(acc))\n",
        "\n",
        "plt.plot(epochs, acc, 'b', label='Training accuracy')\n",
        "plt.title('Training accuracy')\n",
        "\n",
        "plt.figure()\n",
        "\n",
        "plt.plot(epochs, loss, 'b', label='Training Loss')\n",
        "plt.title('Training loss')\n",
        "plt.legend()\n",
        "\n",
        "plt.show()"
      ],
      "metadata": {
        "colab": {
          "base_uri": "https://localhost:8080/",
          "height": 545
        },
        "id": "hzF2Rl8LR8EL",
        "outputId": "0bcd2299-8ab0-436d-e66a-d1029fc2bdcf"
      },
      "execution_count": 44,
      "outputs": [
        {
          "output_type": "display_data",
          "data": {
            "text/plain": [
              "<Figure size 432x288 with 1 Axes>"
            ],
            "image/png": "[encoded data removed]"
          },
          "metadata": {
            "needs_background": "light"
          }
        },
        {
          "output_type": "display_data",
          "data": {
            "text/plain": [
              "<Figure size 432x288 with 1 Axes>"
            ],
            "image/png": "[encoded data removed]"
          },
          "metadata": {
            "needs_background": "light"
          }
        }
      ]
    },
    {
      "cell_type": "markdown",
      "source": [
        "## 4.c* use model to predict results"
      ],
      "metadata": {
        "id": "WoYt9_ZzdorI"
      }
    },
    {
      "cell_type": "code",
      "source": [
        "seed_text = \"Together, we will devour the very gods\"\n",
        "next_words = 100\n",
        "  \n",
        "for _ in range(next_words):\n",
        "\t# Convert the text into sequences\n",
        "\ttoken_list = tokenizer.texts_to_sequences([seed_text])[0]\n",
        "\t# Pad the sequences\n",
        "\ttoken_list = pad_sequences([token_list], maxlen=max_sequence_len-1, padding='pre')\n",
        "\t# Get the probabilities of predicting a word\n",
        "\tpredicted = model.predict(token_list, verbose=0)\n",
        "\t# Choose the next word based on the maximum probability\n",
        "\tpredicted = np.argmax(predicted, axis=-1).item()\n",
        "\t# Get the actual word from the word index\n",
        "\toutput_word = tokenizer.index_word[predicted]\n",
        "\t# Append to the current text\n",
        "\tseed_text += \" \" + output_word\n",
        "\n",
        "print(seed_text)"
      ],
      "metadata": {
        "id": "SwGtKDLlb0W5",
        "colab": {
          "base_uri": "https://localhost:8080/"
        },
        "outputId": "68b12147-cc0a-4346-8105-3750f0975618"
      },
      "execution_count": 45,
      "outputs": [
        {
          "output_type": "stream",
          "name": "stdout",
          "text": [
            "Together, we will devour the very gods birds doth die and prevent make ' am to none told of eye behind of trust men's hate knows it doth part thee 'will ' wrong no hate ' so show me ' do i not love more strong ' can change bright bright glory o wrong in him thee is end to none after art new eyes new told ' still live to more prove thee to me lost it bright in thee ' still in thee art more more eye doth groan to take the fair of thy mind dost lie hid in me old should cannot sing\n"
          ]
        }
      ]
    },
    {
      "cell_type": "code",
      "source": [
        ""
      ],
      "metadata": {
        "id": "1DoMgb5zb0fT"
      },
      "execution_count": 45,
      "outputs": []
    },
    {
      "cell_type": "code",
      "source": [
        ""
      ],
      "metadata": {
        "id": "xMXTefoQb0-B"
      },
      "execution_count": 45,
      "outputs": []
    },
    {
      "cell_type": "code",
      "source": [
        ""
      ],
      "metadata": {
        "id": "4Ily4ADdb1FD"
      },
      "execution_count": 45,
      "outputs": []
    }
  ]
}